{
 "cells": [
  {
   "cell_type": "code",
   "execution_count": null,
   "metadata": {},
   "outputs": [],
   "source": [
    "from utils import *\n",
    "\n",
    "sda = spatialDA()\n",
    "sda.check_torch_gpu()\n",
    "\n",
    "octave = sda.mrst_startup()"
   ]
  },
  {
   "cell_type": "code",
   "execution_count": null,
   "metadata": {},
   "outputs": [],
   "source": [
    "# Grid\n",
    "dims = 64\n",
    "nx, ny, nz = dims, dims, 1\n",
    "dx, dy, dz = 1000*meter(), 1000*meter(), 100*meter()\n",
    "\n",
    "G = octave.feval('cartGrid', [nx,ny,nz], [dx,dy,dz])\n",
    "G = octave.feval('computeGeometry', G, store_as='G')"
   ]
  },
  {
   "cell_type": "code",
   "execution_count": null,
   "metadata": {},
   "outputs": [],
   "source": [
    "from gstools import SRF, TPLStable\n",
    "x = y = np.linspace(0, 64, 64)\n",
    "model = TPLStable(dim       = 2,\n",
    "                  var       = 1,\n",
    "                  len_low   = 0,\n",
    "                  len_scale = 16,\n",
    "                  nugget    = 0.1,\n",
    "                  anis      = 0.5,\n",
    "                  angles    = np.pi/4,\n",
    "                  alpha     = 1.5,\n",
    "                  hurst     = 0.7)\n",
    "srf = SRF(model, mean=1, mode_no=1000, seed=2023, verbose=False)\n",
    "logperm = srf((x,y), mesh_type='structured')"
   ]
  },
  {
   "cell_type": "code",
   "execution_count": null,
   "metadata": {},
   "outputs": [],
   "source": [
    "# Rock Properties\n",
    "G = octave.pull('G')\n",
    "perm = (logperm*milli()*darcy()).flatten().reshape(-1,1)\n",
    "poro = (10**((logperm-7)/10)).flatten().reshape(-1,1)\n",
    "rock = octave.feval('makeRock', G, perm, poro)"
   ]
  },
  {
   "cell_type": "code",
   "execution_count": null,
   "metadata": {},
   "outputs": [],
   "source": [
    "# Initial State\n",
    "rhow = 1000\n",
    "P0   = 4000*psia()\n",
    "initState = {}\n",
    "initState['pressure'] = repmat(P0,    int(G.cells.num), 1)\n",
    "initState['s']        = repmat([1,0], int(G.cells.num), 1)\n",
    "initState['sGmax']    = initState['s'][:,1]\n",
    "octave.push('initState', initState)"
   ]
  },
  {
   "cell_type": "code",
   "execution_count": null,
   "metadata": {},
   "outputs": [],
   "source": [
    "# Fluid Properties\n",
    "octave.feval('CO2props', store_as='co2')\n",
    "\n",
    "octave.push('p_ref', 30*mega()*Pascal())\n",
    "octave.push('t_ref', 94 + 273.15)\n",
    "\n",
    "octave.push('rhoc',    octave.eval('co2.rho(p_ref,t_ref)', verbose=False))\n",
    "octave.push('rhow',    1000)\n",
    "\n",
    "octave.push('cf_co2',  octave.eval('co2.rhoDP(p_ref,t_ref)', verbose=False))\n",
    "octave.push('cf_wat',  0)\n",
    "octave.push('cf_rock', 4.35e-5 / barsa())\n",
    "\n",
    "octave.push('muw',     8e-4 * Pascal() * second())\n",
    "octave.push('muco2', octave.eval('co2.mu(p_ref,t_ref)', verbose=False) * Pascal() * second())\n",
    "\n",
    "octave.push('fluid', octave.feval(\"initSimpleADIFluid('phases', 'WG',            \\\n",
    "                                                     'mu',     [muw, muco2],    \\\n",
    "                                                     'rho',    [rhow, rhoc],    \\\n",
    "                                                     'pRef',   p_ref,           \\\n",
    "                                                     'c',      [cf_wat, cf_co2],\\\n",
    "                                                     'cR',     cf_rock,         \\\n",
    "                                                     'n',      [2,2])\", verbose=False))\n",
    "\n",
    "srw, src = 0.27, 0.20"
   ]
  },
  {
   "cell_type": "code",
   "execution_count": null,
   "metadata": {},
   "outputs": [],
   "source": [
    "octave.pull('fluid')"
   ]
  }
 ],
 "metadata": {
  "language_info": {
   "name": "python"
  },
  "orig_nbformat": 4
 },
 "nbformat": 4,
 "nbformat_minor": 2
}
