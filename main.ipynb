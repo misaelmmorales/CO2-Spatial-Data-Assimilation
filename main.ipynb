{
 "cells": [
  {
   "cell_type": "code",
   "execution_count": null,
   "metadata": {},
   "outputs": [],
   "source": [
    "from utils import *\n",
    "sda = spatialDA()\n",
    "sda.check_torch_gpu()\n",
    "\n",
    "octave = sda.mrst_startup()"
   ]
  },
  {
   "cell_type": "code",
   "execution_count": null,
   "metadata": {},
   "outputs": [],
   "source": []
  },
  {
   "cell_type": "code",
   "execution_count": null,
   "metadata": {},
   "outputs": [],
   "source": []
  },
  {
   "attachments": {},
   "cell_type": "markdown",
   "metadata": {},
   "source": [
    "***\n",
    "# Original Data"
   ]
  },
  {
   "cell_type": "code",
   "execution_count": null,
   "metadata": {},
   "outputs": [],
   "source": [
    "perm_true, perm_ens = sda.load_perms()\n",
    "sat_true = np.load('sat_true.npy')"
   ]
  },
  {
   "cell_type": "code",
   "execution_count": null,
   "metadata": {},
   "outputs": [],
   "source": [
    "sda.plot_perm_sat(perm_true, sat_true)"
   ]
  },
  {
   "cell_type": "code",
   "execution_count": null,
   "metadata": {},
   "outputs": [],
   "source": [
    "plt.figure(figsize=(4,3))\n",
    "plt.imshow(perm_true, 'jet')\n",
    "plt.colorbar(fraction=0.046, pad=0.04)\n",
    "plt.show()\n",
    "\n",
    "plt.figure(figsize=(20,8))\n",
    "for i in range(100):\n",
    "    plt.subplot(5,20,i+1)\n",
    "    plt.imshow(perm_ens[i], 'jet')\n",
    "    plt.xticks([]); plt.yticks([])\n",
    "plt.show()"
   ]
  },
  {
   "attachments": {},
   "cell_type": "markdown",
   "metadata": {},
   "source": [
    "***\n",
    "# ESMDA-GEO"
   ]
  },
  {
   "cell_type": "code",
   "execution_count": null,
   "metadata": {},
   "outputs": [],
   "source": [
    "def exponential(p, x):\n",
    "    return p[0] * np.exp(x * p[1])\n",
    "\n",
    "def forward_model(m_ensemble, x):\n",
    "    d_pred = np.zeros([m_ensemble.shape[0], x.shape[0]])\n",
    "    for j in range(m_ensemble.shape[0]):\n",
    "        d_pred[j,:] = exponential(m_ensemble[j,:], x)\n",
    "    return d_pred\n",
    "\n",
    "a = 10\n",
    "b = -0.0020\n",
    "\n",
    "# Observations\n",
    "x = np.arange(500) #timesteps\n",
    "obs = exponential((a,b), x) + np.random.normal(0, 1, x.shape[0])\n",
    "cov_obs = np.diag([1]*obs.shape[0])\n",
    "\n",
    "# Ensemble of parameters\n",
    "n_ensemble = 100\n",
    "ma = np.random.uniform(2, 20, size=n_ensemble)\n",
    "mb = np.random.uniform(-0.005, 0, size=n_ensemble)\n",
    "m_ensemble = np.stack((ma,mb), axis=1)\n",
    "m_bounds = np.array([[0,50],[-1,1]])\n",
    "\n",
    "n_assimilations = 3\n",
    "\n",
    "cov_obs_inflation_geo = 1.2\n",
    "cov_obs_inflation_factors = [1.1]\n",
    "for l in range(1, n_assimilations):\n",
    "    cov_obs_inflation_factors.append(cov_obs_inflation_factors[l - 1] / cov_obs_inflation_geo)\n",
    "scaling_factor = np.sum(1 / np.array(cov_obs_inflation_factors))\n",
    "\n",
    "cov_obs_inflation_factors = [alpha * scaling_factor for alpha in cov_obs_inflation_factors]\n",
    "\n",
    "cov_mm_inflation_factors = [1.2] * n_assimilations\n",
    "\n",
    "solver = ESMDA(obs, m_ensemble, cov_obs, forward_model, \n",
    "               forward_model_args        = (x,),\n",
    "               forward_model_kwargs      = {},\n",
    "               n_assimilations           = n_assimilations,\n",
    "               cov_obs_inflation_factors = cov_obs_inflation_factors,\n",
    "               cov_mm_inflation_factors  = cov_mm_inflation_factors,\n",
    "               m_bounds                  = m_bounds,\n",
    "               save_ensembles_history    = True)\n",
    "solver.solve()\n",
    "\n",
    "#approxtimate parameters\n",
    "a_approx, b_approx = np.average(solver.m_prior, axis=0)\n",
    "a_std, b_std = np.sqrt(np.diagonal(solver.cov_mm))\n",
    "\n",
    "print('a={:.5f} +/- {:.5f}'.format(a_approx, a_std))\n",
    "print('b={:.5f} +/- {:.5f}'.format(b_approx, b_std))\n",
    "\n",
    "d = {}\n",
    "for i in range(100):\n",
    "    d[i] = exponential([m_ensemble[i,0], m_ensemble[i,1]], x)\n",
    "    \n",
    "plt.plot(x, obs, label='$d_{obs}$')\n",
    "for i in range(100):\n",
    "    plt.plot(x, d[i], alpha=0.3, c='cyan')\n",
    "plt.plot(x, exponential([a,b], x), c='k', linewidth=3, linestyle='-', label='true')\n",
    "plt.plot(x, exponential([a_approx,b_approx], x), c='r', linewidth=3, linestyle='--', label='posterior')\n",
    "plt.legend(); plt.grid('on')\n",
    "plt.show()"
   ]
  },
  {
   "attachments": {},
   "cell_type": "markdown",
   "metadata": {},
   "source": [
    "***\n",
    "# END"
   ]
  }
 ],
 "metadata": {
  "kernelspec": {
   "display_name": "torchy",
   "language": "python",
   "name": "python3"
  },
  "language_info": {
   "codemirror_mode": {
    "name": "ipython",
    "version": 3
   },
   "file_extension": ".py",
   "mimetype": "text/x-python",
   "name": "python",
   "nbconvert_exporter": "python",
   "pygments_lexer": "ipython3",
   "version": "3.8.16"
  },
  "orig_nbformat": 4
 },
 "nbformat": 4,
 "nbformat_minor": 2
}
