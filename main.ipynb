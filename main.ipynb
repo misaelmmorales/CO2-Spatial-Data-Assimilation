{
 "cells": [
  {
   "cell_type": "code",
   "execution_count": 40,
   "metadata": {},
   "outputs": [
    {
     "name": "stdout",
     "output_type": "stream",
     "text": [
      "-------------------------------------------------\n",
      "------------------ VERSION INFO -----------------\n",
      "Conda Environment: torchy | Python version: 3.8.16 (default, Mar  2 2023, 03:18:16) [MSC v.1916 64 bit (AMD64)]\n",
      "Torch version: 2.0.1\n",
      "Torch build with CUDA? True\n",
      "# Device(s) available: 1, Name(s): Quadro P520\n",
      "\n"
     ]
    }
   ],
   "source": [
    "from utils import *\n",
    "sda = spatialHM()\n",
    "sda.check_torch_gpu()"
   ]
  },
  {
   "cell_type": "code",
   "execution_count": 41,
   "metadata": {},
   "outputs": [],
   "source": [
    "oct_address = 'C:/Users/381792/AppData/Local/Programs/GNU Octave/Octave-8.2.0/mingw64/bin/octave-cli.exe'\n",
    "os.environ['OCTAVE_EXECUTABLE'] = oct_address"
   ]
  },
  {
   "cell_type": "code",
   "execution_count": 45,
   "metadata": {},
   "outputs": [],
   "source": [
    "import oct2py\n",
    "from oct2py import Oct2Py, kill_octave"
   ]
  },
  {
   "cell_type": "code",
   "execution_count": 46,
   "metadata": {},
   "outputs": [
    {
     "ename": "Oct2PyError",
     "evalue": "Octave evaluation error:\nerror: startup: function called with too many outputs\nerror: called from:\n    startup at line -1, column -1",
     "output_type": "error",
     "traceback": [
      "\u001b[1;31m---------------------------------------------------------------------------\u001b[0m",
      "\u001b[1;31mOct2PyError\u001b[0m                               Traceback (most recent call last)",
      "Cell \u001b[1;32mIn[46], line 2\u001b[0m\n\u001b[0;32m      1\u001b[0m oc \u001b[39m=\u001b[39m Oct2Py()\n\u001b[1;32m----> 2\u001b[0m oc\u001b[39m.\u001b[39;49mfeval(\u001b[39m'\u001b[39;49m\u001b[39mC:/Users/381792/Documents/mrst-2023a/startup\u001b[39;49m\u001b[39m'\u001b[39;49m)\n",
      "File \u001b[1;32mc:\\Users\\381792\\AppData\\Local\\anaconda3\\envs\\torchy\\lib\\site-packages\\oct2py\\core.py:394\u001b[0m, in \u001b[0;36mOct2Py.feval\u001b[1;34m(self, func_path, *func_args, **kwargs)\u001b[0m\n\u001b[0;32m    391\u001b[0m \u001b[39mif\u001b[39;00m \u001b[39mnot\u001b[39;00m stream_handler:\n\u001b[0;32m    392\u001b[0m     stream_handler \u001b[39m=\u001b[39m \u001b[39mself\u001b[39m\u001b[39m.\u001b[39mlogger\u001b[39m.\u001b[39minfo \u001b[39mif\u001b[39;00m verbose \u001b[39melse\u001b[39;00m \u001b[39mself\u001b[39m\u001b[39m.\u001b[39mlogger\u001b[39m.\u001b[39mdebug\n\u001b[1;32m--> 394\u001b[0m \u001b[39mreturn\u001b[39;00m \u001b[39mself\u001b[39;49m\u001b[39m.\u001b[39;49m_feval(\n\u001b[0;32m    395\u001b[0m     func_name,\n\u001b[0;32m    396\u001b[0m     func_args,\n\u001b[0;32m    397\u001b[0m     dname\u001b[39m=\u001b[39;49mdname,\n\u001b[0;32m    398\u001b[0m     nout\u001b[39m=\u001b[39;49mnout,\n\u001b[0;32m    399\u001b[0m     timeout\u001b[39m=\u001b[39;49mtimeout,\n\u001b[0;32m    400\u001b[0m     stream_handler\u001b[39m=\u001b[39;49mstream_handler,\n\u001b[0;32m    401\u001b[0m     store_as\u001b[39m=\u001b[39;49mstore_as,\n\u001b[0;32m    402\u001b[0m     plot_dir\u001b[39m=\u001b[39;49mplot_dir,\n\u001b[0;32m    403\u001b[0m )\n",
      "File \u001b[1;32mc:\\Users\\381792\\AppData\\Local\\anaconda3\\envs\\torchy\\lib\\site-packages\\oct2py\\core.py:636\u001b[0m, in \u001b[0;36mOct2Py._feval\u001b[1;34m(self, func_name, func_args, dname, nout, timeout, stream_handler, store_as, plot_dir)\u001b[0m\n\u001b[0;32m    634\u001b[0m \u001b[39mif\u001b[39;00m resp[\u001b[39m\"\u001b[39m\u001b[39merr\u001b[39m\u001b[39m\"\u001b[39m]:\n\u001b[0;32m    635\u001b[0m     msg \u001b[39m=\u001b[39m \u001b[39mself\u001b[39m\u001b[39m.\u001b[39m_parse_error(resp[\u001b[39m\"\u001b[39m\u001b[39merr\u001b[39m\u001b[39m\"\u001b[39m])\n\u001b[1;32m--> 636\u001b[0m     \u001b[39mraise\u001b[39;00m Oct2PyError(msg)\n\u001b[0;32m    638\u001b[0m result \u001b[39m=\u001b[39m resp[\u001b[39m\"\u001b[39m\u001b[39mresult\u001b[39m\u001b[39m\"\u001b[39m]\u001b[39m.\u001b[39mravel()\u001b[39m.\u001b[39mtolist()\n\u001b[0;32m    639\u001b[0m \u001b[39mif\u001b[39;00m \u001b[39misinstance\u001b[39m(result, \u001b[39mlist\u001b[39m) \u001b[39mand\u001b[39;00m \u001b[39mlen\u001b[39m(result) \u001b[39m==\u001b[39m \u001b[39m1\u001b[39m:\n",
      "\u001b[1;31mOct2PyError\u001b[0m: Octave evaluation error:\nerror: startup: function called with too many outputs\nerror: called from:\n    startup at line -1, column -1"
     ]
    }
   ],
   "source": [
    "oc = Oct2Py()\n",
    "oc.feval('C:/Users/381792/Documents/mrst-2023a/startup')"
   ]
  },
  {
   "cell_type": "code",
   "execution_count": null,
   "metadata": {},
   "outputs": [],
   "source": []
  },
  {
   "cell_type": "code",
   "execution_count": null,
   "metadata": {},
   "outputs": [],
   "source": []
  },
  {
   "cell_type": "code",
   "execution_count": null,
   "metadata": {},
   "outputs": [],
   "source": []
  },
  {
   "cell_type": "code",
   "execution_count": null,
   "metadata": {},
   "outputs": [],
   "source": []
  },
  {
   "cell_type": "code",
   "execution_count": null,
   "metadata": {},
   "outputs": [],
   "source": [
    "perm_true, perm_ens = sda.load_perms()\n",
    "sat_true = np.load('sat_true.npy')"
   ]
  },
  {
   "cell_type": "code",
   "execution_count": null,
   "metadata": {},
   "outputs": [],
   "source": [
    "sda.plot_perm_sat(perm_true, sat_true)"
   ]
  },
  {
   "cell_type": "code",
   "execution_count": null,
   "metadata": {},
   "outputs": [],
   "source": [
    "plt.figure(figsize=(4,3))\n",
    "plt.imshow(perm_true, 'jet')\n",
    "plt.colorbar(fraction=0.046, pad=0.04)\n",
    "plt.show()\n",
    "\n",
    "plt.figure(figsize=(20,8))\n",
    "for i in range(100):\n",
    "    plt.subplot(5,20,i+1)\n",
    "    plt.imshow(perm_ens[i], 'jet')\n",
    "    plt.xticks([]); plt.yticks([])\n",
    "plt.show()"
   ]
  },
  {
   "cell_type": "code",
   "execution_count": null,
   "metadata": {},
   "outputs": [],
   "source": []
  },
  {
   "cell_type": "code",
   "execution_count": null,
   "metadata": {},
   "outputs": [],
   "source": []
  },
  {
   "cell_type": "code",
   "execution_count": null,
   "metadata": {},
   "outputs": [],
   "source": []
  },
  {
   "cell_type": "code",
   "execution_count": null,
   "metadata": {},
   "outputs": [],
   "source": []
  },
  {
   "cell_type": "code",
   "execution_count": null,
   "metadata": {},
   "outputs": [],
   "source": [
    "def exponential(p, x):\n",
    "    return p[0] * np.exp(x * p[1])\n",
    "\n",
    "def forward_model(m_ensemble, x):\n",
    "    d_pred = np.zeros([m_ensemble.shape[0], x.shape[0]])\n",
    "    for j in range(m_ensemble.shape[0]):\n",
    "        d_pred[j,:] = exponential(m_ensemble[j,:], x)\n",
    "    return d_pred\n",
    "\n",
    "a = 10\n",
    "b = -0.0020\n",
    "\n",
    "# Observations\n",
    "x = np.arange(500) #timesteps\n",
    "obs = exponential((a,b), x) + np.random.normal(0, 1, x.shape[0])\n",
    "cov_obs = np.diag([1]*obs.shape[0])\n",
    "\n",
    "# Ensemble of parameters\n",
    "n_ensemble = 100\n",
    "ma = np.random.uniform(2, 20, size=n_ensemble)\n",
    "mb = np.random.uniform(-0.005, 0, size=n_ensemble)\n",
    "m_ensemble = np.stack((ma,mb), axis=1)\n",
    "m_bounds = np.array([[0,50],[-1,1]])\n",
    "\n",
    "n_assimilations = 3\n",
    "\n",
    "cov_obs_inflation_geo = 1.2\n",
    "cov_obs_inflation_factors = [1.1]\n",
    "for l in range(1, n_assimilations):\n",
    "    cov_obs_inflation_factors.append(cov_obs_inflation_factors[l - 1] / cov_obs_inflation_geo)\n",
    "scaling_factor = np.sum(1 / np.array(cov_obs_inflation_factors))\n",
    "cov_obs_inflation_factors = [alpha * scaling_factor for alpha in cov_obs_inflation_factors]\n",
    "\n",
    "cov_mm_inflation_factors = [1.2] * n_assimilations\n",
    "\n",
    "solver = ESMDA(obs, m_ensemble, cov_obs, forward_model, \n",
    "               forward_model_args        = (x,),\n",
    "               forward_model_kwargs      = {},\n",
    "               n_assimilations           = n_assimilations,\n",
    "               cov_obs_inflation_factors = cov_obs_inflation_factors,\n",
    "               cov_mm_inflation_factors  = cov_mm_inflation_factors,\n",
    "               m_bounds                  = m_bounds,\n",
    "               save_ensembles_history    = True)\n",
    "solver.solve()\n",
    "\n",
    "\n",
    "#approxtimate parameters\n",
    "a_approx, b_approx = np.average(solver.m_prior, axis=0)\n",
    "a_std, b_std = np.sqrt(np.diagonal(solver.cov_mm))\n",
    "\n",
    "print('a={:.5f} +/- {:.5f}'.format(a_approx, a_std))\n",
    "print('b={:.5f} +/- {:.5f}'.format(b_approx, b_std))\n",
    "\n",
    "d = {}\n",
    "for i in range(100):\n",
    "    d[i] = exponential([m_ensemble[i,0], m_ensemble[i,1]], x)\n",
    "    \n",
    "plt.plot(x, obs, label='$d_{obs}$')\n",
    "for i in range(100):\n",
    "    plt.plot(x, d[i], alpha=0.3, c='cyan')\n",
    "plt.plot(x, exponential([a,b], x), c='k', linewidth=3, linestyle='-', label='true')\n",
    "plt.plot(x, exponential([a_approx,b_approx], x), c='r', linewidth=3, linestyle='--', label='posterior')\n",
    "plt.legend(); plt.grid('on')\n",
    "plt.show()"
   ]
  },
  {
   "attachments": {},
   "cell_type": "markdown",
   "metadata": {},
   "source": [
    "***\n",
    "# END"
   ]
  }
 ],
 "metadata": {
  "kernelspec": {
   "display_name": "torchy",
   "language": "python",
   "name": "python3"
  },
  "language_info": {
   "codemirror_mode": {
    "name": "ipython",
    "version": 3
   },
   "file_extension": ".py",
   "mimetype": "text/x-python",
   "name": "python",
   "nbconvert_exporter": "python",
   "pygments_lexer": "ipython3",
   "version": "3.8.16"
  },
  "orig_nbformat": 4
 },
 "nbformat": 4,
 "nbformat_minor": 2
}
