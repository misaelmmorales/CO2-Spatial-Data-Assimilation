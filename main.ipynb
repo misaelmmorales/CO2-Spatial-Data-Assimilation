{
 "cells": [
  {
   "attachments": {},
   "cell_type": "markdown",
   "metadata": {},
   "source": [
    "# Spatial Data Assimilation in Geologic CO2 Sequestration\n",
    "## Misael M. Morales - Summer 2023 - LANL"
   ]
  },
  {
   "cell_type": "code",
   "execution_count": null,
   "metadata": {},
   "outputs": [],
   "source": [
    "# Load packages, class, and functions\n",
    "from utils import *\n",
    "sda = spatialDA()\n",
    "sda.check_torch_gpu()\n",
    "octave = sda.mrst_startup()"
   ]
  },
  {
   "cell_type": "code",
   "execution_count": null,
   "metadata": {},
   "outputs": [],
   "source": [
    "# Load permeability (true, ensemble) and saturation (true)\n",
    "perm_true, sat_true = sda.load_perm_sat_true()\n",
    "perm_ens            = sda.load_perm_ens()\n",
    "perm_all            = sda.load_perm_all()\n",
    "sda.plot_perm_sat(perm_true, sat_true)"
   ]
  },
  {
   "cell_type": "code",
   "execution_count": null,
   "metadata": {},
   "outputs": [],
   "source": [
    "# Reservoir Simulation of the permeability ensemble\n",
    "n_realizations = 5#perm_ens.shape[0]\n",
    "\n",
    "saturation = {}\n",
    "for i in range(n_realizations):\n",
    "    saturation[i] = octave.feval('simulations_octave/sim', perm_all[i])\n",
    "    print('Simulation {} Done!'.format(i))\n",
    "\n",
    "for i in range(2):\n",
    "    sda.plot_perm_sat(perm_all[i], saturation[i])"
   ]
  },
  {
   "attachments": {},
   "cell_type": "markdown",
   "metadata": {},
   "source": [
    "***\n",
    "### ESMDA-GEO"
   ]
  },
  {
   "cell_type": "code",
   "execution_count": null,
   "metadata": {},
   "outputs": [],
   "source": [
    "def linear(p, x):\n",
    "    return p[0]*np.exp(x*p[1])\n",
    "\n",
    "def forward_model(m_ensemble, x):\n",
    "    d_pred = np.zeros([m_ensemble.shape[0], x.shape[0]])\n",
    "    for j in range(m_ensemble.shape[0]):\n",
    "        d_pred[j, :] = linear(m_ensemble[j, :], x)\n",
    "    return d_pred\n",
    "\n",
    "a, b = 10.0, -0.002                                    # true parameters\n",
    "x = np.arange(100)                                           # timesteps\n",
    "obs = linear((a, b), x) + np.random.normal(0,1,x.shape[0])       # observations\n",
    "cov_obs = np.diag([1.0] * obs.shape[0])                        # Observation error covariance matrix\n",
    "print('obs: {} | cov_obs: {}'.format(obs.shape, cov_obs.shape))\n",
    "\n",
    "n_ensemble = 100                                               # size of the ensemble\n",
    "ma = np.random.uniform(low=-10.0, high=50.0, size=n_ensemble)  # Uniform law for the parameter a ensemble\n",
    "mb = np.random.uniform(low=-0.001, high=0.01, size=n_ensemble) # Uniform law for the parameter b ensemble\n",
    "m_ensemble = np.stack((ma, mb), axis=1)                        # Prior ensemble\n",
    "print('m_ensemble: {}'.format(m_ensemble.shape))\n",
    "\n",
    "n_assimilations = 3\n",
    "# Use a geometric suite to compte alphas.\n",
    "cov_obs_inflation_geo = 1.2\n",
    "cov_obs_inflation_factors = [1.1]\n",
    "for i in range(1, n_assimilations):\n",
    "    cov_obs_inflation_factors.append(cov_obs_inflation_factors[i-1] / cov_obs_inflation_geo)\n",
    "scaling_factor = np.sum(1 / np.array(cov_obs_inflation_factors))\n",
    "cov_obs_inflation_factors = [alpha * scaling_factor for alpha in cov_obs_inflation_factors]\n",
    "print('cov_obs_inflation_factors:', cov_obs_inflation_factors)\n",
    "cov_mm_inflation_factors = [1.2] * n_assimilations       # This is just for the test\n",
    "print('cov_mm_inflation_factors: ', cov_mm_inflation_factors)\n",
    "\n",
    "solver = ESMDA(obs, m_ensemble, cov_obs, forward_model,\n",
    "    forward_model_args        = (x,),\n",
    "    forward_model_kwargs      = {},\n",
    "    n_assimilations           = n_assimilations,\n",
    "    cov_obs_inflation_factors = cov_obs_inflation_factors,\n",
    "    cov_mm_inflation_factors  = cov_mm_inflation_factors,\n",
    "    save_ensembles_history    = True)\n",
    "solver.solve()\n",
    "\n",
    "# Get the approximated parameters and uncertainty\n",
    "a_approx, b_approx = np.average(solver.m_prior, axis=0)\n",
    "a_std, b_std = np.sqrt(np.diagonal(solver.cov_mm))\n",
    "# print(f\"a = {a_approx:.5f} +/- {a_std:.4E}\")\n",
    "# print(f\"b = {b_approx:.5f} +/- {b_std: 4E}\")\n",
    "\n",
    "posterior = np.zeros((n_ensemble, x.shape[0]))\n",
    "for i in range(n_ensemble):\n",
    "    posterior[i,:] = linear(solver.m_prior[i], np.arange(x.shape[0]))\n",
    "\n",
    "prior = np.zeros((n_ensemble,x.shape[0]))\n",
    "for i in range(n_ensemble):\n",
    "    prior[i] = linear(m_ensemble[i], np.arange(x.shape[0]))\n",
    " \n",
    "# plt.figure()\n",
    "# for i in range(n_ensemble):\n",
    "#     plt.plot(np.arange(x.shape[0]), prior[i], 'c-', alpha=0.2)\n",
    "#     plt.plot(np.arange(x.shape[0]), obs, 'k-')\n",
    "#     plt.plot(np.arange(x.shape[0]), posterior[i], 'r--')\n",
    "# plt.show()"
   ]
  },
  {
   "cell_type": "code",
   "execution_count": null,
   "metadata": {},
   "outputs": [],
   "source": [
    "approximate_cov_mm(m_ensemble)"
   ]
  },
  {
   "cell_type": "code",
   "execution_count": null,
   "metadata": {},
   "outputs": [],
   "source": []
  },
  {
   "cell_type": "code",
   "execution_count": null,
   "metadata": {},
   "outputs": [],
   "source": [
    "# Observations\n",
    "obs     = np.array(list(saturation.values()))[:,0]\n",
    "cov_obs = approximate_cov_mm(perm_ens[:n_realizations].T)\n",
    "print('obs: {} | cov_obs: {}'.format(obs.shape, cov_obs.shape))\n",
    "\n",
    "# Ensemble\n",
    "n_ensemble = n_realizations\n",
    "m_ensemble = perm_ens[:n_ensemble]\n",
    "print('m_ensemble: {}'.format(m_ensemble.shape))"
   ]
  },
  {
   "cell_type": "code",
   "execution_count": null,
   "metadata": {},
   "outputs": [],
   "source": [
    "n_assimilations = 2\n",
    "\n",
    "cov_mm_inflation_geo  = 1.2\n",
    "cov_obs_inflation_geo = 1.2\n",
    "\n",
    "cov_obs_inflation_factors = [1.1]\n",
    "for i in range(1, n_assimilations):\n",
    "    cov_obs_inflation_factors.append(cov_obs_inflation_factors[i-1] / cov_obs_inflation_geo)\n",
    "scaling_factor = np.sum(1/np.array(cov_obs_inflation_factors))\n",
    "cov_obs_inflation_factors = [alpha * scaling_factor for alpha in cov_obs_inflation_factors]\n",
    "print('cov_obs_inflation_factors:', cov_obs_inflation_factors)\n",
    "\n",
    "cov_mm_inflation_factors = [cov_mm_inflation_geo] * n_assimilations\n",
    "print('cov_mm_inflation_factors: ', cov_mm_inflation_factors)"
   ]
  },
  {
   "cell_type": "code",
   "execution_count": null,
   "metadata": {},
   "outputs": [],
   "source": [
    "def forward_model(ens):\n",
    "    d_pred = np.zeros([n_ensemble, sda.dim*sda.dim, 3])\n",
    "    for i in range(ens.shape[0]):\n",
    "        sat_pred = octave.feval('simulations_octave/sim', ens[i])\n",
    "        d_pred[i,:,:] = np.moveaxis(sat_pred,0,-1)\n",
    "    return d_pred"
   ]
  },
  {
   "cell_type": "code",
   "execution_count": null,
   "metadata": {},
   "outputs": [],
   "source": [
    "solver = ESMDA(obs=obs, m_init=m_ensemble, cov_obs=cov_obs, \n",
    "               forward_model             = forward_model, \n",
    "               forward_model_args        = (),\n",
    "               forward_model_kwargs      = {},\n",
    "               n_assimilations           = n_assimilations,\n",
    "               cov_obs_inflation_factors = cov_obs_inflation_factors,\n",
    "               cov_mm_inflation_factors  = cov_mm_inflation_factors,\n",
    "               save_ensembles_history    = True)\n",
    "solver.solve()"
   ]
  },
  {
   "cell_type": "code",
   "execution_count": null,
   "metadata": {},
   "outputs": [],
   "source": []
  },
  {
   "attachments": {},
   "cell_type": "markdown",
   "metadata": {},
   "source": [
    "***\n",
    "# END"
   ]
  }
 ],
 "metadata": {
  "kernelspec": {
   "display_name": "torchy",
   "language": "python",
   "name": "python3"
  },
  "language_info": {
   "codemirror_mode": {
    "name": "ipython",
    "version": 3
   },
   "file_extension": ".py",
   "mimetype": "text/x-python",
   "name": "python",
   "nbconvert_exporter": "python",
   "pygments_lexer": "ipython3",
   "version": "3.9.10"
  },
  "orig_nbformat": 4
 },
 "nbformat": 4,
 "nbformat_minor": 2
}
